{
 "cells": [
  {
   "cell_type": "markdown",
   "id": "06bb897e",
   "metadata": {
    "_cell_guid": "b1076dfc-b9ad-4769-8c92-a6c4dae69d19",
    "_uuid": "8f2839f25d086af736a60e9eeb907d3b93b6e0e5",
    "papermill": {
     "duration": 0.004243,
     "end_time": "2024-05-04T06:05:13.899209",
     "exception": false,
     "start_time": "2024-05-04T06:05:13.894966",
     "status": "completed"
    },
    "tags": []
   },
   "source": [
    "# 导入相关依赖库.\n",
    "第一个块用于检查版本."
   ]
  },
  {
   "cell_type": "code",
   "execution_count": 1,
   "id": "b399cfef",
   "metadata": {
    "execution": {
     "iopub.execute_input": "2024-05-04T06:05:13.908362Z",
     "iopub.status.busy": "2024-05-04T06:05:13.908023Z",
     "iopub.status.idle": "2024-05-04T06:05:23.026937Z",
     "shell.execute_reply": "2024-05-04T06:05:23.025976Z"
    },
    "papermill": {
     "duration": 9.126273,
     "end_time": "2024-05-04T06:05:23.029422",
     "exception": false,
     "start_time": "2024-05-04T06:05:13.903149",
     "status": "completed"
    },
    "tags": []
   },
   "outputs": [
    {
     "name": "stdout",
     "output_type": "stream",
     "text": [
      "numpy: 1.26.4\n",
      "pandas: 2.2.2\n",
      "sklearn: 1.2.2\n",
      "timm: 0.9.16\n",
      "torch: 2.1.2\n",
      "torchvision: 0.16.2\n",
      "tqdm: 4.66.1\n"
     ]
    }
   ],
   "source": [
    "import os\n",
    "import random\n",
    "\n",
    "import numpy as np\n",
    "import pandas as pd\n",
    "import sklearn\n",
    "import timm\n",
    "import torch\n",
    "import torchvision\n",
    "import tqdm\n",
    "\n",
    "from sklearn.model_selection import KFold\n",
    "from torch.nn.functional import kl_div, log_softmax\n",
    "from torch.optim import AdamW\n",
    "from torch.utils.data import DataLoader, Dataset\n",
    "from torchvision.transforms import Resize\n",
    "\n",
    "print(f'numpy: {np.__version__}')\n",
    "print(f'pandas: {pd.__version__}')\n",
    "print(f'sklearn: {sklearn.__version__}')\n",
    "print(f'timm: {timm.__version__}')\n",
    "print(f'torch: {torch.__version__}')\n",
    "print(f'torchvision: {torchvision.__version__}')\n",
    "print(f'tqdm: {tqdm.__version__}')"
   ]
  },
  {
   "cell_type": "markdown",
   "id": "03675c3c",
   "metadata": {
    "papermill": {
     "duration": 0.003581,
     "end_time": "2024-05-04T06:05:23.036947",
     "exception": false,
     "start_time": "2024-05-04T06:05:23.033366",
     "status": "completed"
    },
    "tags": []
   },
   "source": [
    "# 设置随机种子, 相关路径信息和超参数."
   ]
  },
  {
   "cell_type": "code",
   "execution_count": 2,
   "id": "8bf31223",
   "metadata": {
    "execution": {
     "iopub.execute_input": "2024-05-04T06:05:23.046161Z",
     "iopub.status.busy": "2024-05-04T06:05:23.045409Z",
     "iopub.status.idle": "2024-05-04T06:05:23.106163Z",
     "shell.execute_reply": "2024-05-04T06:05:23.105183Z"
    },
    "papermill": {
     "duration": 0.06756,
     "end_time": "2024-05-04T06:05:23.108272",
     "exception": false,
     "start_time": "2024-05-04T06:05:23.040712",
     "status": "completed"
    },
    "tags": []
   },
   "outputs": [],
   "source": [
    "BATCH_SIZE = 16\n",
    "DATA_DIR = '/kaggle/input/hms-harmful-brain-activity-classification'\n",
    "DEVICE = torch.device('cuda' if torch.cuda.is_available() else 'cpu')\n",
    "EPOCHS = 3\n",
    "LABELS = ['seizure_vote',\n",
    "          'lpd_vote',\n",
    "          'gpd_vote',\n",
    "          'lrda_vote',\n",
    "          'grda_vote',\n",
    "          'other_vote']\n",
    "LEARNING_RATE = 1e-3\n",
    "N_FOLD = 5\n",
    "PRE_TRAINED = True\n",
    "SEED = 2024\n",
    "WEIGHT_DECAY = 1e-2\n",
    "\n",
    "# 设置随机种子.\n",
    "random.seed(SEED)\n",
    "np.random.seed(SEED)\n",
    "torch.manual_seed(SEED)\n",
    "torch.cuda.manual_seed_all(SEED)"
   ]
  },
  {
   "cell_type": "markdown",
   "id": "d4fddc31",
   "metadata": {
    "papermill": {
     "duration": 0.003566,
     "end_time": "2024-05-04T06:05:23.115794",
     "exception": false,
     "start_time": "2024-05-04T06:05:23.112228",
     "status": "completed"
    },
    "tags": []
   },
   "source": [
    "# 数据预处理.\n",
    "1. 准备数据(加载频谱图).\n",
    "2. 创建数据集,包含数据预处理和信号处理."
   ]
  },
  {
   "cell_type": "code",
   "execution_count": 3,
   "id": "a064ad96",
   "metadata": {
    "execution": {
     "iopub.execute_input": "2024-05-04T06:05:23.124677Z",
     "iopub.status.busy": "2024-05-04T06:05:23.124343Z",
     "iopub.status.idle": "2024-05-04T06:05:23.136386Z",
     "shell.execute_reply": "2024-05-04T06:05:23.135630Z"
    },
    "papermill": {
     "duration": 0.018902,
     "end_time": "2024-05-04T06:05:23.138429",
     "exception": false,
     "start_time": "2024-05-04T06:05:23.119527",
     "status": "completed"
    },
    "tags": []
   },
   "outputs": [],
   "source": [
    "def prepare_data(data_dir):\n",
    "    \"\"\"准备数据.\"\"\"\n",
    "    dataframe = pd.read_csv(f'{data_dir}/train.csv')\n",
    "\n",
    "    # 根据频谱图分组.\n",
    "    dataframe = dataframe.groupby('spectrogram_id')[LABELS].sum()\n",
    "\n",
    "    # 每个样本投票数不同, 对投票进行归一化.\n",
    "    vote_sum = dataframe.sum(axis=1)\n",
    "    for label in LABELS:\n",
    "        dataframe[label] /= vote_sum\n",
    "\n",
    "    # 添加频谱图路径信息.\n",
    "    dataframe['spec_path'] = dataframe.index.map(\n",
    "        lambda filename: f'{data_dir}/train_spectrograms/{filename}.parquet'\n",
    "    )\n",
    "    dataframe = dataframe.reset_index()\n",
    "\n",
    "    return dataframe\n",
    "\n",
    "\n",
    "class SpectrogramDataset(Dataset):\n",
    "    \"\"\"频谱图数据集.\"\"\"\n",
    "    def __init__(self, dataframe):\n",
    "        self.dataframe = dataframe\n",
    "\n",
    "    def __len__(self):\n",
    "        return len(self.dataframe)\n",
    "\n",
    "    def __getitem__(self, index):\n",
    "        # 读取频谱图.\n",
    "        row_elm = self.dataframe.iloc[index]\n",
    "        spectrogram = pd.read_parquet(row_elm.spec_path)\n",
    "\n",
    "        signal = spectrogram.fillna(-1)  # 填充缺失值.\n",
    "        signal = signal.values[:, 1:]  # 去掉第一个索引列.\n",
    "        signal = signal.transpose()  # 转换成关于时间的函数.\n",
    "        signal = torch.tensor(signal, dtype=torch.float32)  # 转换成张量.\n",
    "        signal = self.preprocess(signal[None, :])  # 增加batch维度再传递.\n",
    "        signal = Resize([512, 512], antialias=False)(signal)  # 统一大小(不选择抗锯齿).\n",
    "\n",
    "        label = np.asarray(row_elm.loc[LABELS].values, np.float32)\n",
    "        label = torch.from_numpy(label)  # 转换成张量.\n",
    "\n",
    "        return signal, label\n",
    "\n",
    "    @staticmethod\n",
    "    def preprocess(signal):\n",
    "        \"\"\"处理信息.\"\"\"\n",
    "        # 转换成对数, 使得数据更平滑稳定.\n",
    "        signal = torch.clip(signal, np.exp(-6), np.exp(10))\n",
    "        signal = torch.log(signal)\n",
    "\n",
    "        # 进行标准化, 符合ImageNet的预训练数据格式.\n",
    "        mean, std = torch.mean(signal), torch.std(signal)\n",
    "        signal = (signal - mean) / (std + 1e-6)  # 常小数避免除零保证数值稳定性.\n",
    "\n",
    "        return signal"
   ]
  },
  {
   "cell_type": "markdown",
   "id": "c21b73cb",
   "metadata": {
    "papermill": {
     "duration": 0.003592,
     "end_time": "2024-05-04T06:05:23.146046",
     "exception": false,
     "start_time": "2024-05-04T06:05:23.142454",
     "status": "completed"
    },
    "tags": []
   },
   "source": [
    "# 创建模型."
   ]
  },
  {
   "cell_type": "code",
   "execution_count": 4,
   "id": "8853cbf2",
   "metadata": {
    "execution": {
     "iopub.execute_input": "2024-05-04T06:05:23.155027Z",
     "iopub.status.busy": "2024-05-04T06:05:23.154697Z",
     "iopub.status.idle": "2024-05-04T06:05:23.159988Z",
     "shell.execute_reply": "2024-05-04T06:05:23.159109Z"
    },
    "papermill": {
     "duration": 0.011957,
     "end_time": "2024-05-04T06:05:23.161886",
     "exception": false,
     "start_time": "2024-05-04T06:05:23.149929",
     "status": "completed"
    },
    "tags": []
   },
   "outputs": [],
   "source": [
    "def create_model(pre_trained=True,\n",
    "                 device=torch.device('cpu')):\n",
    "    \"\"\"创建模型.\"\"\"\n",
    "    model = timm.create_model('tf_efficientnet_b0.ns_jft_in1k',\n",
    "                              pretrained=pre_trained,\n",
    "                              num_classes=6,\n",
    "                              in_chans=1)\n",
    "    model.to(device)\n",
    "\n",
    "    return model"
   ]
  },
  {
   "cell_type": "markdown",
   "id": "47247f61",
   "metadata": {
    "papermill": {
     "duration": 0.003559,
     "end_time": "2024-05-04T06:05:23.169280",
     "exception": false,
     "start_time": "2024-05-04T06:05:23.165721",
     "status": "completed"
    },
    "tags": []
   },
   "source": [
    "# 实现损失函数, 训练代码和验证代码.\n",
    "1. 输出需要求对数已满足和数据预处理对齐."
   ]
  },
  {
   "cell_type": "code",
   "execution_count": 5,
   "id": "69958b0a",
   "metadata": {
    "execution": {
     "iopub.execute_input": "2024-05-04T06:05:23.179307Z",
     "iopub.status.busy": "2024-05-04T06:05:23.178465Z",
     "iopub.status.idle": "2024-05-04T06:05:23.188713Z",
     "shell.execute_reply": "2024-05-04T06:05:23.187788Z"
    },
    "papermill": {
     "duration": 0.017253,
     "end_time": "2024-05-04T06:05:23.190704",
     "exception": false,
     "start_time": "2024-05-04T06:05:23.173451",
     "status": "completed"
    },
    "tags": []
   },
   "outputs": [],
   "source": [
    "def kl_divergence(y_pred, y):\n",
    "    \"\"\"计算KL散度.\"\"\"\n",
    "    y_pred = log_softmax(y_pred, dim=1)\n",
    "    y_pred = kl_div(y_pred, y, reduction='batchmean')\n",
    "\n",
    "    return y_pred\n",
    "\n",
    "\n",
    "def train(model,\n",
    "          dataloader,\n",
    "          loss_fn,\n",
    "          optimizer,\n",
    "          epochs=1,\n",
    "          device=torch.device('cpu')):\n",
    "    \"\"\"训练模型.\"\"\"\n",
    "    for epoch in tqdm.tqdm(range(epochs)):\n",
    "        model.train()\n",
    "\n",
    "        total_loss = 0.0\n",
    "        for x, y in dataloader:\n",
    "            x, y = x.to(device), y.to(device)\n",
    "            y_pred = model(x)\n",
    "\n",
    "            # 计算损失并反向传播.\n",
    "            loss = loss_fn(y_pred, y)\n",
    "            loss.backward()\n",
    "            total_loss += loss.item()\n",
    "\n",
    "            # 更新参数.\n",
    "            optimizer.step()\n",
    "            optimizer.zero_grad()\n",
    "\n",
    "        print(f'Epoch: {epoch + 1}, Loss: {total_loss / len(dataloader)}')\n",
    "\n",
    "\n",
    "def validation(model, dataloader, loss_fn, device=torch.device('cpu')):\n",
    "    \"\"\"验证模型.\"\"\"\n",
    "    model.eval()\n",
    "\n",
    "    total_loss = 0.0\n",
    "    for x, y in dataloader:\n",
    "        x, y = x.to(device), y.to(device)\n",
    "        y_pred = model(x)\n",
    "\n",
    "        # 计算损失.\n",
    "        loss = loss_fn(y_pred, y)\n",
    "        total_loss += loss.item()\n",
    "\n",
    "    print(f'Val Loss: {total_loss / len(dataloader)}')"
   ]
  },
  {
   "cell_type": "code",
   "execution_count": 6,
   "id": "5614b0a3",
   "metadata": {
    "execution": {
     "iopub.execute_input": "2024-05-04T06:05:23.199751Z",
     "iopub.status.busy": "2024-05-04T06:05:23.199446Z",
     "iopub.status.idle": "2024-05-04T06:55:44.849753Z",
     "shell.execute_reply": "2024-05-04T06:55:44.848684Z"
    },
    "papermill": {
     "duration": 3021.664776,
     "end_time": "2024-05-04T06:55:44.859312",
     "exception": false,
     "start_time": "2024-05-04T06:05:23.194536",
     "status": "completed"
    },
    "tags": []
   },
   "outputs": [
    {
     "name": "stdout",
     "output_type": "stream",
     "text": [
      "Fold 1:\n"
     ]
    },
    {
     "data": {
      "application/vnd.jupyter.widget-view+json": {
       "model_id": "2960a80798054b29b3f805b031b794e2",
       "version_major": 2,
       "version_minor": 0
      },
      "text/plain": [
       "model.safetensors:   0%|          | 0.00/21.4M [00:00<?, ?B/s]"
      ]
     },
     "metadata": {},
     "output_type": "display_data"
    },
    {
     "name": "stderr",
     "output_type": "stream",
     "text": [
      " 33%|███▎      | 1/3 [03:18<06:36, 198.02s/it]"
     ]
    },
    {
     "name": "stdout",
     "output_type": "stream",
     "text": [
      "Epoch: 1, Loss: 0.9158835526850584\n"
     ]
    },
    {
     "name": "stderr",
     "output_type": "stream",
     "text": [
      " 67%|██████▋   | 2/3 [06:20<03:09, 189.07s/it]"
     ]
    },
    {
     "name": "stdout",
     "output_type": "stream",
     "text": [
      "Epoch: 2, Loss: 0.6201312914758706\n"
     ]
    },
    {
     "name": "stderr",
     "output_type": "stream",
     "text": [
      "100%|██████████| 3/3 [09:22<00:00, 187.62s/it]"
     ]
    },
    {
     "name": "stdout",
     "output_type": "stream",
     "text": [
      "Epoch: 3, Loss: 0.504804401973383\n"
     ]
    },
    {
     "name": "stderr",
     "output_type": "stream",
     "text": [
      "\n"
     ]
    },
    {
     "name": "stdout",
     "output_type": "stream",
     "text": [
      "Val Loss: 0.718278951996522\n",
      "Fold 2:\n"
     ]
    },
    {
     "name": "stderr",
     "output_type": "stream",
     "text": [
      " 33%|███▎      | 1/3 [03:07<06:14, 187.31s/it]"
     ]
    },
    {
     "name": "stdout",
     "output_type": "stream",
     "text": [
      "Epoch: 1, Loss: 0.9049592796418306\n"
     ]
    },
    {
     "name": "stderr",
     "output_type": "stream",
     "text": [
      " 67%|██████▋   | 2/3 [06:13<03:06, 186.41s/it]"
     ]
    },
    {
     "name": "stdout",
     "output_type": "stream",
     "text": [
      "Epoch: 2, Loss: 0.6147540080890381\n"
     ]
    },
    {
     "name": "stderr",
     "output_type": "stream",
     "text": [
      "100%|██████████| 3/3 [09:18<00:00, 186.33s/it]"
     ]
    },
    {
     "name": "stdout",
     "output_type": "stream",
     "text": [
      "Epoch: 3, Loss: 0.4917825357787472\n"
     ]
    },
    {
     "name": "stderr",
     "output_type": "stream",
     "text": [
      "\n"
     ]
    },
    {
     "name": "stdout",
     "output_type": "stream",
     "text": [
      "Val Loss: 0.7879917137056803\n",
      "Fold 3:\n"
     ]
    },
    {
     "name": "stderr",
     "output_type": "stream",
     "text": [
      " 33%|███▎      | 1/3 [03:07<06:15, 187.59s/it]"
     ]
    },
    {
     "name": "stdout",
     "output_type": "stream",
     "text": [
      "Epoch: 1, Loss: 0.8960190440574995\n"
     ]
    },
    {
     "name": "stderr",
     "output_type": "stream",
     "text": [
      " 67%|██████▋   | 2/3 [06:14<03:07, 187.14s/it]"
     ]
    },
    {
     "name": "stdout",
     "output_type": "stream",
     "text": [
      "Epoch: 2, Loss: 0.6090584173262548\n"
     ]
    },
    {
     "name": "stderr",
     "output_type": "stream",
     "text": [
      "100%|██████████| 3/3 [09:20<00:00, 186.91s/it]"
     ]
    },
    {
     "name": "stdout",
     "output_type": "stream",
     "text": [
      "Epoch: 3, Loss: 0.4929387055927043\n"
     ]
    },
    {
     "name": "stderr",
     "output_type": "stream",
     "text": [
      "\n"
     ]
    },
    {
     "name": "stdout",
     "output_type": "stream",
     "text": [
      "Val Loss: 0.716630942958722\n",
      "Fold 4:\n"
     ]
    },
    {
     "name": "stderr",
     "output_type": "stream",
     "text": [
      " 33%|███▎      | 1/3 [03:09<06:18, 189.22s/it]"
     ]
    },
    {
     "name": "stdout",
     "output_type": "stream",
     "text": [
      "Epoch: 1, Loss: 0.9015311781022188\n"
     ]
    },
    {
     "name": "stderr",
     "output_type": "stream",
     "text": [
      " 67%|██████▋   | 2/3 [06:15<03:07, 187.47s/it]"
     ]
    },
    {
     "name": "stdout",
     "output_type": "stream",
     "text": [
      "Epoch: 2, Loss: 0.6226945290569779\n"
     ]
    },
    {
     "name": "stderr",
     "output_type": "stream",
     "text": [
      "100%|██████████| 3/3 [09:21<00:00, 187.07s/it]"
     ]
    },
    {
     "name": "stdout",
     "output_type": "stream",
     "text": [
      "Epoch: 3, Loss: 0.5096829648551752\n"
     ]
    },
    {
     "name": "stderr",
     "output_type": "stream",
     "text": [
      "\n"
     ]
    },
    {
     "name": "stdout",
     "output_type": "stream",
     "text": [
      "Val Loss: 0.8221211845068623\n",
      "Fold 5:\n"
     ]
    },
    {
     "name": "stderr",
     "output_type": "stream",
     "text": [
      " 33%|███▎      | 1/3 [03:08<06:16, 188.39s/it]"
     ]
    },
    {
     "name": "stdout",
     "output_type": "stream",
     "text": [
      "Epoch: 1, Loss: 0.904100743129099\n"
     ]
    },
    {
     "name": "stderr",
     "output_type": "stream",
     "text": [
      " 67%|██████▋   | 2/3 [06:13<03:06, 186.59s/it]"
     ]
    },
    {
     "name": "stdout",
     "output_type": "stream",
     "text": [
      "Epoch: 2, Loss: 0.6099935338812338\n"
     ]
    },
    {
     "name": "stderr",
     "output_type": "stream",
     "text": [
      "100%|██████████| 3/3 [09:18<00:00, 186.25s/it]"
     ]
    },
    {
     "name": "stdout",
     "output_type": "stream",
     "text": [
      "Epoch: 3, Loss: 0.48294984270557223\n"
     ]
    },
    {
     "name": "stderr",
     "output_type": "stream",
     "text": [
      "\n"
     ]
    },
    {
     "name": "stdout",
     "output_type": "stream",
     "text": [
      "Val Loss: 0.7360910494550527\n"
     ]
    }
   ],
   "source": [
    "df = prepare_data(DATA_DIR)\n",
    "\n",
    "# 使用交叉验证训练.\n",
    "kfold = KFold(n_splits=N_FOLD, shuffle=True, random_state=SEED)\n",
    "for fold, (train_set, valid_set) in enumerate(kfold.split(df)):\n",
    "    print(f'Fold {fold + 1}:')\n",
    "\n",
    "    # 创建DataLoader.\n",
    "    train_ds = SpectrogramDataset(df.iloc[train_set])\n",
    "    train_dl = DataLoader(train_ds,\n",
    "                          batch_size=BATCH_SIZE,\n",
    "                          num_workers=os.cpu_count(),\n",
    "                          drop_last=True)\n",
    "    valid_ds = SpectrogramDataset(df.iloc[valid_set])\n",
    "    valid_dl = DataLoader(valid_ds,\n",
    "                          batch_size=BATCH_SIZE,\n",
    "                          num_workers=os.cpu_count(),\n",
    "                          drop_last=True)\n",
    "\n",
    "    # 创建模型.\n",
    "    model = create_model(PRE_TRAINED, DEVICE)\n",
    "    optimizer = AdamW(model.parameters(),\n",
    "                      lr=LEARNING_RATE,\n",
    "                      weight_decay=WEIGHT_DECAY)\n",
    "    train(model, train_dl, kl_divergence, optimizer, EPOCHS, DEVICE)\n",
    "\n",
    "    # 保存模型.\n",
    "    torch.save(model.state_dict(), f'fold{fold + 1:02d}-model.pth')\n",
    "\n",
    "    # 验证模型.\n",
    "    validation(model, valid_dl, kl_divergence, DEVICE)"
   ]
  },
  {
   "cell_type": "code",
   "execution_count": null,
   "id": "fcf701a1",
   "metadata": {
    "papermill": {
     "duration": 0.007685,
     "end_time": "2024-05-04T06:55:44.875223",
     "exception": false,
     "start_time": "2024-05-04T06:55:44.867538",
     "status": "completed"
    },
    "tags": []
   },
   "outputs": [],
   "source": []
  }
 ],
 "metadata": {
  "kaggle": {
   "accelerator": "gpu",
   "dataSources": [
    {
     "databundleVersionId": 7469972,
     "sourceId": 59093,
     "sourceType": "competition"
    }
   ],
   "dockerImageVersionId": 30698,
   "isGpuEnabled": true,
   "isInternetEnabled": true,
   "language": "python",
   "sourceType": "notebook"
  },
  "kernelspec": {
   "display_name": "Python 3",
   "language": "python",
   "name": "python3"
  },
  "language_info": {
   "codemirror_mode": {
    "name": "ipython",
    "version": 3
   },
   "file_extension": ".py",
   "mimetype": "text/x-python",
   "name": "python",
   "nbconvert_exporter": "python",
   "pygments_lexer": "ipython3",
   "version": "3.10.13"
  },
  "papermill": {
   "default_parameters": {},
   "duration": 3036.295827,
   "end_time": "2024-05-04T06:55:47.336874",
   "environment_variables": {},
   "exception": null,
   "input_path": "__notebook__.ipynb",
   "output_path": "__notebook__.ipynb",
   "parameters": {},
   "start_time": "2024-05-04T06:05:11.041047",
   "version": "2.5.0"
  },
  "widgets": {
   "application/vnd.jupyter.widget-state+json": {
    "state": {
     "09da1fab52f948e2a8dfed9ba756c9b4": {
      "model_module": "@jupyter-widgets/controls",
      "model_module_version": "1.5.0",
      "model_name": "DescriptionStyleModel",
      "state": {
       "_model_module": "@jupyter-widgets/controls",
       "_model_module_version": "1.5.0",
       "_model_name": "DescriptionStyleModel",
       "_view_count": null,
       "_view_module": "@jupyter-widgets/base",
       "_view_module_version": "1.2.0",
       "_view_name": "StyleView",
       "description_width": ""
      }
     },
     "10622412f5214a70b264aa08cf6273b4": {
      "model_module": "@jupyter-widgets/base",
      "model_module_version": "1.2.0",
      "model_name": "LayoutModel",
      "state": {
       "_model_module": "@jupyter-widgets/base",
       "_model_module_version": "1.2.0",
       "_model_name": "LayoutModel",
       "_view_count": null,
       "_view_module": "@jupyter-widgets/base",
       "_view_module_version": "1.2.0",
       "_view_name": "LayoutView",
       "align_content": null,
       "align_items": null,
       "align_self": null,
       "border": null,
       "bottom": null,
       "display": null,
       "flex": null,
       "flex_flow": null,
       "grid_area": null,
       "grid_auto_columns": null,
       "grid_auto_flow": null,
       "grid_auto_rows": null,
       "grid_column": null,
       "grid_gap": null,
       "grid_row": null,
       "grid_template_areas": null,
       "grid_template_columns": null,
       "grid_template_rows": null,
       "height": null,
       "justify_content": null,
       "justify_items": null,
       "left": null,
       "margin": null,
       "max_height": null,
       "max_width": null,
       "min_height": null,
       "min_width": null,
       "object_fit": null,
       "object_position": null,
       "order": null,
       "overflow": null,
       "overflow_x": null,
       "overflow_y": null,
       "padding": null,
       "right": null,
       "top": null,
       "visibility": null,
       "width": null
      }
     },
     "2960a80798054b29b3f805b031b794e2": {
      "model_module": "@jupyter-widgets/controls",
      "model_module_version": "1.5.0",
      "model_name": "HBoxModel",
      "state": {
       "_dom_classes": [],
       "_model_module": "@jupyter-widgets/controls",
       "_model_module_version": "1.5.0",
       "_model_name": "HBoxModel",
       "_view_count": null,
       "_view_module": "@jupyter-widgets/controls",
       "_view_module_version": "1.5.0",
       "_view_name": "HBoxView",
       "box_style": "",
       "children": [
        "IPY_MODEL_2b00019d780c433e89624e9e40fd1e36",
        "IPY_MODEL_fe62117a036c4459ba9833fb5fdc9ed3",
        "IPY_MODEL_64335d21f9c842beb3acc5d30e43c6f0"
       ],
       "layout": "IPY_MODEL_8fe1eb850f3e4c38b857e638236406f4"
      }
     },
     "2b00019d780c433e89624e9e40fd1e36": {
      "model_module": "@jupyter-widgets/controls",
      "model_module_version": "1.5.0",
      "model_name": "HTMLModel",
      "state": {
       "_dom_classes": [],
       "_model_module": "@jupyter-widgets/controls",
       "_model_module_version": "1.5.0",
       "_model_name": "HTMLModel",
       "_view_count": null,
       "_view_module": "@jupyter-widgets/controls",
       "_view_module_version": "1.5.0",
       "_view_name": "HTMLView",
       "description": "",
       "description_tooltip": null,
       "layout": "IPY_MODEL_cda8829136d645e0bebee38dc8da6210",
       "placeholder": "​",
       "style": "IPY_MODEL_87014bdd19ad4d408af2b656324b5083",
       "value": "model.safetensors: 100%"
      }
     },
     "33f25550797642ca8bfff06d0ceaf40b": {
      "model_module": "@jupyter-widgets/base",
      "model_module_version": "1.2.0",
      "model_name": "LayoutModel",
      "state": {
       "_model_module": "@jupyter-widgets/base",
       "_model_module_version": "1.2.0",
       "_model_name": "LayoutModel",
       "_view_count": null,
       "_view_module": "@jupyter-widgets/base",
       "_view_module_version": "1.2.0",
       "_view_name": "LayoutView",
       "align_content": null,
       "align_items": null,
       "align_self": null,
       "border": null,
       "bottom": null,
       "display": null,
       "flex": null,
       "flex_flow": null,
       "grid_area": null,
       "grid_auto_columns": null,
       "grid_auto_flow": null,
       "grid_auto_rows": null,
       "grid_column": null,
       "grid_gap": null,
       "grid_row": null,
       "grid_template_areas": null,
       "grid_template_columns": null,
       "grid_template_rows": null,
       "height": null,
       "justify_content": null,
       "justify_items": null,
       "left": null,
       "margin": null,
       "max_height": null,
       "max_width": null,
       "min_height": null,
       "min_width": null,
       "object_fit": null,
       "object_position": null,
       "order": null,
       "overflow": null,
       "overflow_x": null,
       "overflow_y": null,
       "padding": null,
       "right": null,
       "top": null,
       "visibility": null,
       "width": null
      }
     },
     "64335d21f9c842beb3acc5d30e43c6f0": {
      "model_module": "@jupyter-widgets/controls",
      "model_module_version": "1.5.0",
      "model_name": "HTMLModel",
      "state": {
       "_dom_classes": [],
       "_model_module": "@jupyter-widgets/controls",
       "_model_module_version": "1.5.0",
       "_model_name": "HTMLModel",
       "_view_count": null,
       "_view_module": "@jupyter-widgets/controls",
       "_view_module_version": "1.5.0",
       "_view_name": "HTMLView",
       "description": "",
       "description_tooltip": null,
       "layout": "IPY_MODEL_33f25550797642ca8bfff06d0ceaf40b",
       "placeholder": "​",
       "style": "IPY_MODEL_09da1fab52f948e2a8dfed9ba756c9b4",
       "value": " 21.4M/21.4M [00:00&lt;00:00, 60.5MB/s]"
      }
     },
     "78b2e0b3c2e741e09ff679ab3fe4494b": {
      "model_module": "@jupyter-widgets/controls",
      "model_module_version": "1.5.0",
      "model_name": "ProgressStyleModel",
      "state": {
       "_model_module": "@jupyter-widgets/controls",
       "_model_module_version": "1.5.0",
       "_model_name": "ProgressStyleModel",
       "_view_count": null,
       "_view_module": "@jupyter-widgets/base",
       "_view_module_version": "1.2.0",
       "_view_name": "StyleView",
       "bar_color": null,
       "description_width": ""
      }
     },
     "87014bdd19ad4d408af2b656324b5083": {
      "model_module": "@jupyter-widgets/controls",
      "model_module_version": "1.5.0",
      "model_name": "DescriptionStyleModel",
      "state": {
       "_model_module": "@jupyter-widgets/controls",
       "_model_module_version": "1.5.0",
       "_model_name": "DescriptionStyleModel",
       "_view_count": null,
       "_view_module": "@jupyter-widgets/base",
       "_view_module_version": "1.2.0",
       "_view_name": "StyleView",
       "description_width": ""
      }
     },
     "8fe1eb850f3e4c38b857e638236406f4": {
      "model_module": "@jupyter-widgets/base",
      "model_module_version": "1.2.0",
      "model_name": "LayoutModel",
      "state": {
       "_model_module": "@jupyter-widgets/base",
       "_model_module_version": "1.2.0",
       "_model_name": "LayoutModel",
       "_view_count": null,
       "_view_module": "@jupyter-widgets/base",
       "_view_module_version": "1.2.0",
       "_view_name": "LayoutView",
       "align_content": null,
       "align_items": null,
       "align_self": null,
       "border": null,
       "bottom": null,
       "display": null,
       "flex": null,
       "flex_flow": null,
       "grid_area": null,
       "grid_auto_columns": null,
       "grid_auto_flow": null,
       "grid_auto_rows": null,
       "grid_column": null,
       "grid_gap": null,
       "grid_row": null,
       "grid_template_areas": null,
       "grid_template_columns": null,
       "grid_template_rows": null,
       "height": null,
       "justify_content": null,
       "justify_items": null,
       "left": null,
       "margin": null,
       "max_height": null,
       "max_width": null,
       "min_height": null,
       "min_width": null,
       "object_fit": null,
       "object_position": null,
       "order": null,
       "overflow": null,
       "overflow_x": null,
       "overflow_y": null,
       "padding": null,
       "right": null,
       "top": null,
       "visibility": null,
       "width": null
      }
     },
     "cda8829136d645e0bebee38dc8da6210": {
      "model_module": "@jupyter-widgets/base",
      "model_module_version": "1.2.0",
      "model_name": "LayoutModel",
      "state": {
       "_model_module": "@jupyter-widgets/base",
       "_model_module_version": "1.2.0",
       "_model_name": "LayoutModel",
       "_view_count": null,
       "_view_module": "@jupyter-widgets/base",
       "_view_module_version": "1.2.0",
       "_view_name": "LayoutView",
       "align_content": null,
       "align_items": null,
       "align_self": null,
       "border": null,
       "bottom": null,
       "display": null,
       "flex": null,
       "flex_flow": null,
       "grid_area": null,
       "grid_auto_columns": null,
       "grid_auto_flow": null,
       "grid_auto_rows": null,
       "grid_column": null,
       "grid_gap": null,
       "grid_row": null,
       "grid_template_areas": null,
       "grid_template_columns": null,
       "grid_template_rows": null,
       "height": null,
       "justify_content": null,
       "justify_items": null,
       "left": null,
       "margin": null,
       "max_height": null,
       "max_width": null,
       "min_height": null,
       "min_width": null,
       "object_fit": null,
       "object_position": null,
       "order": null,
       "overflow": null,
       "overflow_x": null,
       "overflow_y": null,
       "padding": null,
       "right": null,
       "top": null,
       "visibility": null,
       "width": null
      }
     },
     "fe62117a036c4459ba9833fb5fdc9ed3": {
      "model_module": "@jupyter-widgets/controls",
      "model_module_version": "1.5.0",
      "model_name": "FloatProgressModel",
      "state": {
       "_dom_classes": [],
       "_model_module": "@jupyter-widgets/controls",
       "_model_module_version": "1.5.0",
       "_model_name": "FloatProgressModel",
       "_view_count": null,
       "_view_module": "@jupyter-widgets/controls",
       "_view_module_version": "1.5.0",
       "_view_name": "ProgressView",
       "bar_style": "success",
       "description": "",
       "description_tooltip": null,
       "layout": "IPY_MODEL_10622412f5214a70b264aa08cf6273b4",
       "max": 21355344.0,
       "min": 0.0,
       "orientation": "horizontal",
       "style": "IPY_MODEL_78b2e0b3c2e741e09ff679ab3fe4494b",
       "value": 21355344.0
      }
     }
    },
    "version_major": 2,
    "version_minor": 0
   }
  }
 },
 "nbformat": 4,
 "nbformat_minor": 5
}
