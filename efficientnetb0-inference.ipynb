{
 "cells": [
  {
   "cell_type": "markdown",
   "id": "966cd3c2",
   "metadata": {
    "_cell_guid": "b1076dfc-b9ad-4769-8c92-a6c4dae69d19",
    "_uuid": "8f2839f25d086af736a60e9eeb907d3b93b6e0e5",
    "execution": {
     "iopub.execute_input": "2024-05-02T09:17:20.042908Z",
     "iopub.status.busy": "2024-05-02T09:17:20.042476Z",
     "iopub.status.idle": "2024-05-02T09:17:20.050193Z",
     "shell.execute_reply": "2024-05-02T09:17:20.048914Z",
     "shell.execute_reply.started": "2024-05-02T09:17:20.042876Z"
    },
    "papermill": {
     "duration": 0.004801,
     "end_time": "2024-05-04T07:15:46.119821",
     "exception": false,
     "start_time": "2024-05-04T07:15:46.115020",
     "status": "completed"
    },
    "tags": []
   },
   "source": [
    "# 导入相关依赖库.\n",
    "第一个块用于检查版本."
   ]
  },
  {
   "cell_type": "code",
   "execution_count": 1,
   "id": "eae939ab",
   "metadata": {
    "execution": {
     "iopub.execute_input": "2024-05-04T07:15:46.130211Z",
     "iopub.status.busy": "2024-05-04T07:15:46.129871Z",
     "iopub.status.idle": "2024-05-04T07:15:54.291390Z",
     "shell.execute_reply": "2024-05-04T07:15:54.290529Z"
    },
    "papermill": {
     "duration": 8.169064,
     "end_time": "2024-05-04T07:15:54.293585",
     "exception": false,
     "start_time": "2024-05-04T07:15:46.124521",
     "status": "completed"
    },
    "tags": []
   },
   "outputs": [
    {
     "name": "stdout",
     "output_type": "stream",
     "text": [
      "numpy: 1.26.4\n",
      "pandas: 2.2.2\n",
      "timm: 0.9.16\n",
      "torch: 2.1.2\n",
      "torchvision: 0.16.2\n"
     ]
    }
   ],
   "source": [
    "import os\n",
    "\n",
    "import numpy as np\n",
    "import pandas as pd\n",
    "import timm\n",
    "import torch\n",
    "import torchvision\n",
    "\n",
    "from torch.nn.functional import softmax\n",
    "from torch.utils.data import DataLoader, Dataset\n",
    "from torchvision.transforms import Resize\n",
    "\n",
    "print(f'numpy: {np.__version__}')\n",
    "print(f'pandas: {pd.__version__}')\n",
    "print(f'timm: {timm.__version__}')\n",
    "print(f'torch: {torch.__version__}')\n",
    "print(f'torchvision: {torchvision.__version__}')"
   ]
  },
  {
   "cell_type": "markdown",
   "id": "71b09ed5",
   "metadata": {
    "papermill": {
     "duration": 0.004478,
     "end_time": "2024-05-04T07:15:54.302713",
     "exception": false,
     "start_time": "2024-05-04T07:15:54.298235",
     "status": "completed"
    },
    "tags": []
   },
   "source": [
    "# 相关路径信息和超参数."
   ]
  },
  {
   "cell_type": "code",
   "execution_count": 2,
   "id": "bc1971a1",
   "metadata": {
    "execution": {
     "iopub.execute_input": "2024-05-04T07:15:54.312525Z",
     "iopub.status.busy": "2024-05-04T07:15:54.312246Z",
     "iopub.status.idle": "2024-05-04T07:15:54.365875Z",
     "shell.execute_reply": "2024-05-04T07:15:54.365089Z"
    },
    "papermill": {
     "duration": 0.060733,
     "end_time": "2024-05-04T07:15:54.367759",
     "exception": false,
     "start_time": "2024-05-04T07:15:54.307026",
     "status": "completed"
    },
    "tags": []
   },
   "outputs": [],
   "source": [
    "ALL_MODEL_PATH = [\n",
    "    '/kaggle/input/efficientnet-b0-cv5-epochs3/fold01-model.pth',\n",
    "    '/kaggle/input/efficientnet-b0-cv5-epochs3/fold02-model.pth',\n",
    "    '/kaggle/input/efficientnet-b0-cv5-epochs3/fold03-model.pth',\n",
    "    '/kaggle/input/efficientnet-b0-cv5-epochs3/fold04-model.pth',\n",
    "    '/kaggle/input/efficientnet-b0-cv5-epochs3/fold05-model.pth'\n",
    "]\n",
    "DATA_DIR = '/kaggle/input/hms-harmful-brain-activity-classification'\n",
    "DEVICE = torch.device('cuda' if torch.cuda.is_available() else 'cpu')\n",
    "LABELS = ['seizure_vote',\n",
    "          'lpd_vote',\n",
    "          'gpd_vote',\n",
    "          'lrda_vote',\n",
    "          'grda_vote',\n",
    "          'other_vote']\n",
    "PRE_TRAINED = False"
   ]
  },
  {
   "cell_type": "markdown",
   "id": "cd89bbc2",
   "metadata": {
    "papermill": {
     "duration": 0.004191,
     "end_time": "2024-05-04T07:15:54.376482",
     "exception": false,
     "start_time": "2024-05-04T07:15:54.372291",
     "status": "completed"
    },
    "tags": []
   },
   "source": [
    "# 数据预处理.¶\n",
    "1. 准备数据(加载频谱图).\n",
    "2. 创建数据集,包含数据预处理和信号处理."
   ]
  },
  {
   "cell_type": "code",
   "execution_count": 3,
   "id": "d3ceb623",
   "metadata": {
    "execution": {
     "iopub.execute_input": "2024-05-04T07:15:54.386361Z",
     "iopub.status.busy": "2024-05-04T07:15:54.386073Z",
     "iopub.status.idle": "2024-05-04T07:15:54.398122Z",
     "shell.execute_reply": "2024-05-04T07:15:54.397280Z"
    },
    "papermill": {
     "duration": 0.019229,
     "end_time": "2024-05-04T07:15:54.399980",
     "exception": false,
     "start_time": "2024-05-04T07:15:54.380751",
     "status": "completed"
    },
    "tags": []
   },
   "outputs": [],
   "source": [
    "def prepare_data(data_dir):\n",
    "    \"\"\"准备数据.\"\"\"\n",
    "    dataframe = pd.read_csv(f'{data_dir}/test.csv')\n",
    "    submission_dataframe = pd.read_csv(f'{data_dir}/sample_submission.csv')\n",
    "\n",
    "    # 合并两个dataframe的数据.\n",
    "    submission_dataframe = pd.merge(left=submission_dataframe,\n",
    "                                    right=dataframe,\n",
    "                                    how='inner',\n",
    "                                    on='eeg_id')\n",
    "\n",
    "    # 添加频谱图路径信息.\n",
    "    submission_dataframe['spec_path'] = submission_dataframe.spectrogram_id.map(\n",
    "        lambda name: f'{data_dir}/test_spectrograms/{name}.parquet'\n",
    "    )\n",
    "\n",
    "    return submission_dataframe\n",
    "\n",
    "\n",
    "class SpectrogramDataset(Dataset):\n",
    "    \"\"\"频谱图数据集.\"\"\"\n",
    "    def __init__(self, dataframe):\n",
    "        self.dataframe = dataframe\n",
    "\n",
    "    def __len__(self):\n",
    "        return len(self.dataframe)\n",
    "\n",
    "    def __getitem__(self, index):\n",
    "        # 读取频谱图.\n",
    "        row_elm = self.dataframe.iloc[index]\n",
    "        spectrogram = pd.read_parquet(row_elm.spec_path)\n",
    "\n",
    "        signal = spectrogram.fillna(-1)  # 填充缺失值.\n",
    "        signal = signal.values[:, 1:]  # 去掉第一个索引列.\n",
    "        signal = signal.transpose()  # 转换成关于时间的函数.\n",
    "        signal = torch.from_numpy(signal)  # 转换成张量.\n",
    "        signal = self.preprocess(signal[None, :])  # 增加batch维度再传递.\n",
    "        signal = Resize([512, 512], antialias=False)(signal)  # 统一大小(不选择抗锯齿).\n",
    "        \n",
    "        # 这个标签只用于占位.\n",
    "        label = np.asarray(row_elm.loc[LABELS].values, np.float32)\n",
    "        label = torch.from_numpy(label)  # 转换成张量.\n",
    "\n",
    "        return signal, label\n",
    "\n",
    "    @staticmethod\n",
    "    def preprocess(signal):\n",
    "        \"\"\"处理信息.\"\"\"\n",
    "        # 转换成对数, 使得数据更平滑稳定.\n",
    "        signal = torch.clip(signal, np.exp(-6), np.exp(10))\n",
    "        signal = torch.log(signal)\n",
    "\n",
    "        # 进行标准化, 符合ImageNet的预训练数据格式.\n",
    "        mean, std = torch.mean(signal), torch.std(signal)\n",
    "        signal = (signal - mean) / (std + 1e-6)  # 常小数避免除零保证数值稳定性.\n",
    "\n",
    "        return signal"
   ]
  },
  {
   "cell_type": "markdown",
   "id": "27513715",
   "metadata": {
    "papermill": {
     "duration": 0.004103,
     "end_time": "2024-05-04T07:15:54.408361",
     "exception": false,
     "start_time": "2024-05-04T07:15:54.404258",
     "status": "completed"
    },
    "tags": []
   },
   "source": [
    "# 加载测试数据集."
   ]
  },
  {
   "cell_type": "code",
   "execution_count": 4,
   "id": "50b5cc4a",
   "metadata": {
    "execution": {
     "iopub.execute_input": "2024-05-04T07:15:54.418025Z",
     "iopub.status.busy": "2024-05-04T07:15:54.417759Z",
     "iopub.status.idle": "2024-05-04T07:15:54.899434Z",
     "shell.execute_reply": "2024-05-04T07:15:54.898158Z"
    },
    "papermill": {
     "duration": 0.488864,
     "end_time": "2024-05-04T07:15:54.901530",
     "exception": false,
     "start_time": "2024-05-04T07:15:54.412666",
     "status": "completed"
    },
    "tags": []
   },
   "outputs": [
    {
     "name": "stdout",
     "output_type": "stream",
     "text": [
      "tensor([[[[ 2.3325,  2.2601,  2.1483,  ...,  1.9688,  2.1143,  2.2084],\n",
      "          [ 2.3929,  2.2949,  2.1435,  ...,  2.1120,  2.1597,  2.1906],\n",
      "          [ 2.3089,  2.2396,  2.1324,  ...,  2.2200,  2.1558,  2.1143],\n",
      "          ...,\n",
      "          [-1.4682, -1.5644, -1.7131,  ...,  0.0490,  0.0909,  0.1181],\n",
      "          [-1.4864, -1.6086, -1.7976,  ..., -0.0120,  0.0149,  0.0323],\n",
      "          [-1.3885, -1.6152, -1.9658,  ..., -0.1403, -0.2011, -0.2405]]]])\n",
      "tensor([[0.1667, 0.1667, 0.1667, 0.1667, 0.1667, 0.1667]])\n"
     ]
    }
   ],
   "source": [
    "test_df = prepare_data(DATA_DIR)\n",
    "test_ds = SpectrogramDataset(test_df)\n",
    "test_dl = DataLoader(test_ds, num_workers=os.cpu_count())\n",
    "\n",
    "x, y = next(iter(test_dl))\n",
    "print(x)\n",
    "print(y)"
   ]
  },
  {
   "cell_type": "markdown",
   "id": "4c888cf9",
   "metadata": {
    "papermill": {
     "duration": 0.004286,
     "end_time": "2024-05-04T07:15:54.910501",
     "exception": false,
     "start_time": "2024-05-04T07:15:54.906215",
     "status": "completed"
    },
    "tags": []
   },
   "source": [
    "# 创建模型."
   ]
  },
  {
   "cell_type": "code",
   "execution_count": 5,
   "id": "f85dea96",
   "metadata": {
    "execution": {
     "iopub.execute_input": "2024-05-04T07:15:54.920818Z",
     "iopub.status.busy": "2024-05-04T07:15:54.920491Z",
     "iopub.status.idle": "2024-05-04T07:15:54.925970Z",
     "shell.execute_reply": "2024-05-04T07:15:54.925120Z"
    },
    "papermill": {
     "duration": 0.013122,
     "end_time": "2024-05-04T07:15:54.927957",
     "exception": false,
     "start_time": "2024-05-04T07:15:54.914835",
     "status": "completed"
    },
    "tags": []
   },
   "outputs": [],
   "source": [
    "def create_model(pre_trained=True,\n",
    "                 device=torch.device('cpu')):\n",
    "    \"\"\"创建模型.\"\"\"\n",
    "    model = timm.create_model('tf_efficientnet_b0.ns_jft_in1k',\n",
    "                              pretrained=pre_trained,\n",
    "                              num_classes=6,\n",
    "                              in_chans=1)\n",
    "    model.to(device)\n",
    "\n",
    "    return model"
   ]
  },
  {
   "cell_type": "code",
   "execution_count": 6,
   "id": "843d9c62",
   "metadata": {
    "execution": {
     "iopub.execute_input": "2024-05-04T07:15:54.938588Z",
     "iopub.status.busy": "2024-05-04T07:15:54.937760Z",
     "iopub.status.idle": "2024-05-04T07:15:55.207721Z",
     "shell.execute_reply": "2024-05-04T07:15:55.206846Z"
    },
    "papermill": {
     "duration": 0.277946,
     "end_time": "2024-05-04T07:15:55.210356",
     "exception": false,
     "start_time": "2024-05-04T07:15:54.932410",
     "status": "completed"
    },
    "tags": []
   },
   "outputs": [],
   "source": [
    "model = create_model(PRE_TRAINED, DEVICE)\n",
    "# print(model)"
   ]
  },
  {
   "cell_type": "code",
   "execution_count": 7,
   "id": "8cf3741b",
   "metadata": {
    "execution": {
     "iopub.execute_input": "2024-05-04T07:15:55.220885Z",
     "iopub.status.busy": "2024-05-04T07:15:55.220609Z",
     "iopub.status.idle": "2024-05-04T07:15:55.228957Z",
     "shell.execute_reply": "2024-05-04T07:15:55.228085Z"
    },
    "papermill": {
     "duration": 0.01574,
     "end_time": "2024-05-04T07:15:55.230896",
     "exception": false,
     "start_time": "2024-05-04T07:15:55.215156",
     "status": "completed"
    },
    "tags": []
   },
   "outputs": [],
   "source": [
    "def test(model, dataframe, dataloader, all_model_path, device=torch.device('cpu')):\n",
    "    \"\"\"测试并提交CSV.\"\"\"\n",
    "    # 对模型输出进行平均.\n",
    "    all_y_preds = np.zeros([len(dataframe), len(LABELS)])\n",
    "\n",
    "    for model_path in all_model_path:\n",
    "        # 加载训练好的数据.\n",
    "        model.load_state_dict(torch.load(model_path, map_location=device))\n",
    "\n",
    "        model.eval()\n",
    "        with torch.no_grad():\n",
    "            # 初始化数组用于对结果的合并占位.\n",
    "            y_preds = []\n",
    "\n",
    "            for x, _ in dataloader:\n",
    "                y_pred = model(x.to(device))\n",
    "                y_pred = softmax(y_pred, dim=1)\n",
    "                y_pred = y_pred.cpu().numpy()  # 转换回CPU.\n",
    "                # 添加到数组中.\n",
    "                y_preds.append(y_pred)\n",
    "\n",
    "            # 合并成ndarray.\n",
    "            y_preds = np.concatenate(y_preds)\n",
    "            all_y_preds += y_preds\n",
    "\n",
    "    # 提交文件.\n",
    "    dataframe[LABELS] = all_y_preds / len(all_model_path)\n",
    "    dataframe = dataframe[['eeg_id'] + LABELS]  # 仅保留需要提交的列.\n",
    "    dataframe.to_csv('submission.csv', index=None)\n",
    "    print(dataframe)"
   ]
  },
  {
   "cell_type": "code",
   "execution_count": 8,
   "id": "521c4969",
   "metadata": {
    "execution": {
     "iopub.execute_input": "2024-05-04T07:15:55.240766Z",
     "iopub.status.busy": "2024-05-04T07:15:55.240501Z",
     "iopub.status.idle": "2024-05-04T07:15:58.365479Z",
     "shell.execute_reply": "2024-05-04T07:15:58.364262Z"
    },
    "papermill": {
     "duration": 3.132143,
     "end_time": "2024-05-04T07:15:58.367508",
     "exception": false,
     "start_time": "2024-05-04T07:15:55.235365",
     "status": "completed"
    },
    "tags": []
   },
   "outputs": [
    {
     "name": "stdout",
     "output_type": "stream",
     "text": [
      "       eeg_id  seizure_vote  lpd_vote  gpd_vote  lrda_vote  grda_vote  \\\n",
      "0  3911565283      0.148325  0.139162  0.001145   0.208682     0.0084   \n",
      "\n",
      "   other_vote  \n",
      "0    0.494287  \n"
     ]
    }
   ],
   "source": [
    "test(model, test_df, test_dl, ALL_MODEL_PATH, DEVICE)"
   ]
  },
  {
   "cell_type": "code",
   "execution_count": null,
   "id": "8aadaf65",
   "metadata": {
    "papermill": {
     "duration": 0.00433,
     "end_time": "2024-05-04T07:15:58.376609",
     "exception": false,
     "start_time": "2024-05-04T07:15:58.372279",
     "status": "completed"
    },
    "tags": []
   },
   "outputs": [],
   "source": []
  }
 ],
 "metadata": {
  "kaggle": {
   "accelerator": "gpu",
   "dataSources": [
    {
     "databundleVersionId": 7469972,
     "sourceId": 59093,
     "sourceType": "competition"
    },
    {
     "datasetId": 4930014,
     "sourceId": 8298842,
     "sourceType": "datasetVersion"
    },
    {
     "datasetId": 4935021,
     "sourceId": 8308243,
     "sourceType": "datasetVersion"
    },
    {
     "datasetId": 4935215,
     "sourceId": 8308484,
     "sourceType": "datasetVersion"
    },
    {
     "datasetId": 4935751,
     "sourceId": 8309221,
     "sourceType": "datasetVersion"
    }
   ],
   "dockerImageVersionId": 30698,
   "isGpuEnabled": true,
   "isInternetEnabled": false,
   "language": "python",
   "sourceType": "notebook"
  },
  "kernelspec": {
   "display_name": "Python 3",
   "language": "python",
   "name": "python3"
  },
  "language_info": {
   "codemirror_mode": {
    "name": "ipython",
    "version": 3
   },
   "file_extension": ".py",
   "mimetype": "text/x-python",
   "name": "python",
   "nbconvert_exporter": "python",
   "pygments_lexer": "ipython3",
   "version": "3.10.13"
  },
  "papermill": {
   "default_parameters": {},
   "duration": 16.861974,
   "end_time": "2024-05-04T07:16:00.204838",
   "environment_variables": {},
   "exception": null,
   "input_path": "__notebook__.ipynb",
   "output_path": "__notebook__.ipynb",
   "parameters": {},
   "start_time": "2024-05-04T07:15:43.342864",
   "version": "2.5.0"
  }
 },
 "nbformat": 4,
 "nbformat_minor": 5
}
